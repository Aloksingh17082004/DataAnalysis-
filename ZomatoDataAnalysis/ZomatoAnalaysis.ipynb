{
 "cells": [
  {
   "cell_type": "markdown",
   "id": "0ad8d8b5-4ecd-4990-80c2-22739c195157",
   "metadata": {},
   "source": [
    "# Zomato Data Analysis"
   ]
  },
  {
   "cell_type": "markdown",
   "id": "c89d3650-d022-42ab-bd00-eb1521f33386",
   "metadata": {},
   "source": [
    "## Importing libraries"
   ]
  },
  {
   "cell_type": "code",
   "execution_count": 353,
   "id": "1dc87b7e-b0f5-499f-89b8-03456883e9d2",
   "metadata": {},
   "outputs": [],
   "source": [
    "import pandas as pd\n",
    "import numpy as np\n",
    "import matplotlib.pyplot as plt\n",
    "import seaborn as sns"
   ]
  },
  {
   "cell_type": "markdown",
   "id": "508d9853-1fdc-4e60-b049-dc9db0b99261",
   "metadata": {},
   "source": [
    "## Importing dataset"
   ]
  },
  {
   "cell_type": "code",
   "execution_count": 355,
   "id": "67ab923e-b833-464a-9a8a-7c9d96806346",
   "metadata": {},
   "outputs": [
    {
     "data": {
      "text/html": [
       "<div>\n",
       "<style scoped>\n",
       "    .dataframe tbody tr th:only-of-type {\n",
       "        vertical-align: middle;\n",
       "    }\n",
       "\n",
       "    .dataframe tbody tr th {\n",
       "        vertical-align: top;\n",
       "    }\n",
       "\n",
       "    .dataframe thead th {\n",
       "        text-align: right;\n",
       "    }\n",
       "</style>\n",
       "<table border=\"1\" class=\"dataframe\">\n",
       "  <thead>\n",
       "    <tr style=\"text-align: right;\">\n",
       "      <th></th>\n",
       "      <th>name</th>\n",
       "      <th>online_order</th>\n",
       "      <th>book_table</th>\n",
       "      <th>rate</th>\n",
       "      <th>votes</th>\n",
       "      <th>approx_cost(for two people)</th>\n",
       "      <th>listed_in(type)</th>\n",
       "    </tr>\n",
       "  </thead>\n",
       "  <tbody>\n",
       "    <tr>\n",
       "      <th>2</th>\n",
       "      <td>San Churro Cafe</td>\n",
       "      <td>Yes</td>\n",
       "      <td>No</td>\n",
       "      <td>3.8/5</td>\n",
       "      <td>918</td>\n",
       "      <td>800</td>\n",
       "      <td>Buffet</td>\n",
       "    </tr>\n",
       "    <tr>\n",
       "      <th>32</th>\n",
       "      <td>Sweet Truth</td>\n",
       "      <td>Yes</td>\n",
       "      <td>No</td>\n",
       "      <td>3.9/5</td>\n",
       "      <td>35</td>\n",
       "      <td>500</td>\n",
       "      <td>Dining</td>\n",
       "    </tr>\n",
       "    <tr>\n",
       "      <th>124</th>\n",
       "      <td>Kwality Wall's Swirl's Happiness Station</td>\n",
       "      <td>No</td>\n",
       "      <td>No</td>\n",
       "      <td>2.9/5</td>\n",
       "      <td>25</td>\n",
       "      <td>200</td>\n",
       "      <td>Dining</td>\n",
       "    </tr>\n",
       "    <tr>\n",
       "      <th>87</th>\n",
       "      <td>Krishna Sagar</td>\n",
       "      <td>No</td>\n",
       "      <td>No</td>\n",
       "      <td>3.5/5</td>\n",
       "      <td>31</td>\n",
       "      <td>200</td>\n",
       "      <td>Dining</td>\n",
       "    </tr>\n",
       "    <tr>\n",
       "      <th>101</th>\n",
       "      <td>Mane Thindi</td>\n",
       "      <td>No</td>\n",
       "      <td>No</td>\n",
       "      <td>3.7/5</td>\n",
       "      <td>130</td>\n",
       "      <td>200</td>\n",
       "      <td>Dining</td>\n",
       "    </tr>\n",
       "  </tbody>\n",
       "</table>\n",
       "</div>"
      ],
      "text/plain": [
       "                                         name online_order book_table   rate  \\\n",
       "2                             San Churro Cafe          Yes         No  3.8/5   \n",
       "32                                Sweet Truth          Yes         No  3.9/5   \n",
       "124  Kwality Wall's Swirl's Happiness Station           No         No  2.9/5   \n",
       "87                              Krishna Sagar           No         No  3.5/5   \n",
       "101                               Mane Thindi           No         No  3.7/5   \n",
       "\n",
       "     votes  approx_cost(for two people) listed_in(type)  \n",
       "2      918                          800          Buffet  \n",
       "32      35                          500          Dining  \n",
       "124     25                          200          Dining  \n",
       "87      31                          200          Dining  \n",
       "101    130                          200          Dining  "
      ]
     },
     "execution_count": 355,
     "metadata": {},
     "output_type": "execute_result"
    }
   ],
   "source": [
    "df = pd.read_csv(\"Zomato data .csv\")\n",
    "df.sample(5)"
   ]
  },
  {
   "cell_type": "code",
   "execution_count": 356,
   "id": "ccf9768d-231c-48e3-ad3d-f359ef681136",
   "metadata": {},
   "outputs": [
    {
     "name": "stdout",
     "output_type": "stream",
     "text": [
      "<class 'pandas.core.frame.DataFrame'>\n",
      "RangeIndex: 148 entries, 0 to 147\n",
      "Data columns (total 7 columns):\n",
      " #   Column                       Non-Null Count  Dtype \n",
      "---  ------                       --------------  ----- \n",
      " 0   name                         148 non-null    object\n",
      " 1   online_order                 148 non-null    object\n",
      " 2   book_table                   148 non-null    object\n",
      " 3   rate                         148 non-null    object\n",
      " 4   votes                        148 non-null    int64 \n",
      " 5   approx_cost(for two people)  148 non-null    int64 \n",
      " 6   listed_in(type)              148 non-null    object\n",
      "dtypes: int64(2), object(5)\n",
      "memory usage: 8.2+ KB\n"
     ]
    }
   ],
   "source": [
    "df.info()"
   ]
  },
  {
   "cell_type": "code",
   "execution_count": 357,
   "id": "9b3fb06c-97db-49a2-af29-859109b2ded8",
   "metadata": {},
   "outputs": [
    {
     "data": {
      "text/html": [
       "<div>\n",
       "<style scoped>\n",
       "    .dataframe tbody tr th:only-of-type {\n",
       "        vertical-align: middle;\n",
       "    }\n",
       "\n",
       "    .dataframe tbody tr th {\n",
       "        vertical-align: top;\n",
       "    }\n",
       "\n",
       "    .dataframe thead th {\n",
       "        text-align: right;\n",
       "    }\n",
       "</style>\n",
       "<table border=\"1\" class=\"dataframe\">\n",
       "  <thead>\n",
       "    <tr style=\"text-align: right;\">\n",
       "      <th></th>\n",
       "      <th>votes</th>\n",
       "      <th>approx_cost(for two people)</th>\n",
       "    </tr>\n",
       "  </thead>\n",
       "  <tbody>\n",
       "    <tr>\n",
       "      <th>count</th>\n",
       "      <td>148.000000</td>\n",
       "      <td>148.000000</td>\n",
       "    </tr>\n",
       "    <tr>\n",
       "      <th>mean</th>\n",
       "      <td>264.810811</td>\n",
       "      <td>418.243243</td>\n",
       "    </tr>\n",
       "    <tr>\n",
       "      <th>std</th>\n",
       "      <td>653.676951</td>\n",
       "      <td>223.085098</td>\n",
       "    </tr>\n",
       "    <tr>\n",
       "      <th>min</th>\n",
       "      <td>0.000000</td>\n",
       "      <td>100.000000</td>\n",
       "    </tr>\n",
       "    <tr>\n",
       "      <th>25%</th>\n",
       "      <td>6.750000</td>\n",
       "      <td>200.000000</td>\n",
       "    </tr>\n",
       "    <tr>\n",
       "      <th>50%</th>\n",
       "      <td>43.500000</td>\n",
       "      <td>400.000000</td>\n",
       "    </tr>\n",
       "    <tr>\n",
       "      <th>75%</th>\n",
       "      <td>221.750000</td>\n",
       "      <td>600.000000</td>\n",
       "    </tr>\n",
       "    <tr>\n",
       "      <th>max</th>\n",
       "      <td>4884.000000</td>\n",
       "      <td>950.000000</td>\n",
       "    </tr>\n",
       "  </tbody>\n",
       "</table>\n",
       "</div>"
      ],
      "text/plain": [
       "             votes  approx_cost(for two people)\n",
       "count   148.000000                   148.000000\n",
       "mean    264.810811                   418.243243\n",
       "std     653.676951                   223.085098\n",
       "min       0.000000                   100.000000\n",
       "25%       6.750000                   200.000000\n",
       "50%      43.500000                   400.000000\n",
       "75%     221.750000                   600.000000\n",
       "max    4884.000000                   950.000000"
      ]
     },
     "execution_count": 357,
     "metadata": {},
     "output_type": "execute_result"
    }
   ],
   "source": [
    "df.describe()"
   ]
  },
  {
   "cell_type": "markdown",
   "id": "e3d4ac14-3ad0-4539-8e2f-53e16ccbc92a",
   "metadata": {},
   "source": [
    "## Data Cleaning and Preprocessing"
   ]
  },
  {
   "cell_type": "code",
   "execution_count": 359,
   "id": "7c317d9c-f0a0-47b2-88ee-4d9cd951810a",
   "metadata": {},
   "outputs": [],
   "source": [
    "df['rate'] = df['rate'].str.split('/5').str[0]\n"
   ]
  },
  {
   "cell_type": "code",
   "execution_count": 360,
   "id": "7a50bb98-ca1a-4214-92c8-dc423c6fea2d",
   "metadata": {},
   "outputs": [
    {
     "data": {
      "text/html": [
       "<div>\n",
       "<style scoped>\n",
       "    .dataframe tbody tr th:only-of-type {\n",
       "        vertical-align: middle;\n",
       "    }\n",
       "\n",
       "    .dataframe tbody tr th {\n",
       "        vertical-align: top;\n",
       "    }\n",
       "\n",
       "    .dataframe thead th {\n",
       "        text-align: right;\n",
       "    }\n",
       "</style>\n",
       "<table border=\"1\" class=\"dataframe\">\n",
       "  <thead>\n",
       "    <tr style=\"text-align: right;\">\n",
       "      <th></th>\n",
       "      <th>name</th>\n",
       "      <th>online_order</th>\n",
       "      <th>book_table</th>\n",
       "      <th>rate</th>\n",
       "      <th>votes</th>\n",
       "      <th>approx_cost(for two people)</th>\n",
       "      <th>listed_in(type)</th>\n",
       "    </tr>\n",
       "  </thead>\n",
       "  <tbody>\n",
       "    <tr>\n",
       "      <th>0</th>\n",
       "      <td>Jalsa</td>\n",
       "      <td>Yes</td>\n",
       "      <td>Yes</td>\n",
       "      <td>4.1</td>\n",
       "      <td>775</td>\n",
       "      <td>800</td>\n",
       "      <td>Buffet</td>\n",
       "    </tr>\n",
       "    <tr>\n",
       "      <th>1</th>\n",
       "      <td>Spice Elephant</td>\n",
       "      <td>Yes</td>\n",
       "      <td>No</td>\n",
       "      <td>4.1</td>\n",
       "      <td>787</td>\n",
       "      <td>800</td>\n",
       "      <td>Buffet</td>\n",
       "    </tr>\n",
       "    <tr>\n",
       "      <th>2</th>\n",
       "      <td>San Churro Cafe</td>\n",
       "      <td>Yes</td>\n",
       "      <td>No</td>\n",
       "      <td>3.8</td>\n",
       "      <td>918</td>\n",
       "      <td>800</td>\n",
       "      <td>Buffet</td>\n",
       "    </tr>\n",
       "    <tr>\n",
       "      <th>3</th>\n",
       "      <td>Addhuri Udupi Bhojana</td>\n",
       "      <td>No</td>\n",
       "      <td>No</td>\n",
       "      <td>3.7</td>\n",
       "      <td>88</td>\n",
       "      <td>300</td>\n",
       "      <td>Buffet</td>\n",
       "    </tr>\n",
       "    <tr>\n",
       "      <th>4</th>\n",
       "      <td>Grand Village</td>\n",
       "      <td>No</td>\n",
       "      <td>No</td>\n",
       "      <td>3.8</td>\n",
       "      <td>166</td>\n",
       "      <td>600</td>\n",
       "      <td>Buffet</td>\n",
       "    </tr>\n",
       "  </tbody>\n",
       "</table>\n",
       "</div>"
      ],
      "text/plain": [
       "                    name online_order book_table rate  votes  \\\n",
       "0                  Jalsa          Yes        Yes  4.1    775   \n",
       "1         Spice Elephant          Yes         No  4.1    787   \n",
       "2        San Churro Cafe          Yes         No  3.8    918   \n",
       "3  Addhuri Udupi Bhojana           No         No  3.7     88   \n",
       "4          Grand Village           No         No  3.8    166   \n",
       "\n",
       "   approx_cost(for two people) listed_in(type)  \n",
       "0                          800          Buffet  \n",
       "1                          800          Buffet  \n",
       "2                          800          Buffet  \n",
       "3                          300          Buffet  \n",
       "4                          600          Buffet  "
      ]
     },
     "execution_count": 360,
     "metadata": {},
     "output_type": "execute_result"
    }
   ],
   "source": [
    "df.head()"
   ]
  },
  {
   "cell_type": "code",
   "execution_count": 361,
   "id": "ab0f3bef-06fe-4985-a3eb-150f63963501",
   "metadata": {},
   "outputs": [],
   "source": [
    "df['rate'] = df['rate'].astype('float' )"
   ]
  },
  {
   "cell_type": "markdown",
   "id": "413f74fb-3430-41f1-ae0a-84bb4391e6ef",
   "metadata": {},
   "source": [
    "## 1. What type of Restaurants do majority of customers order from ?"
   ]
  },
  {
   "cell_type": "code",
   "execution_count": 363,
   "id": "bf7219f8-18a4-43c8-8cff-ac7d57221bf5",
   "metadata": {},
   "outputs": [
    {
     "data": {
      "text/plain": [
       "Text(0.5, 1.0, 'Customer interest in type of Restaurant')"
      ]
     },
     "execution_count": 363,
     "metadata": {},
     "output_type": "execute_result"
    },
    {
     "data": {
      "image/png": "[encoded data removed]",
      "text/plain": [
       "<Figure size 640x480 with 1 Axes>"
      ]
     },
     "metadata": {},
     "output_type": "display_data"
    }
   ],
   "source": [
    "sns.countplot( x=df['listed_in(type)'] , data = df)\n",
    "plt.xlabel('Type of Restaurent')\n",
    "plt.title('Customer interest in type of Restaurant')"
   ]
  },
  {
   "cell_type": "markdown",
   "id": "32f64396-4e2a-4ab3-9b0b-a379bde6f901",
   "metadata": {},
   "source": [
    "## observation\n",
    "#### Majority of customers preffer dinning type of restaurents followed by cafes , buffet and other"
   ]
  },
  {
   "cell_type": "markdown",
   "id": "7910827b-257a-435f-8bad-75c17e02e6f2",
   "metadata": {},
   "source": [
    "## 2. How many votes has each type of restaurant recieved from customers ?"
   ]
  },
  {
   "cell_type": "code",
   "execution_count": 366,
   "id": "80e65ad6-840c-4f30-985f-3803b476e17b",
   "metadata": {},
   "outputs": [],
   "source": [
    "grouped = df.groupby('listed_in(type)')['votes'].sum().reset_index()"
   ]
  },
  {
   "cell_type": "code",
   "execution_count": 367,
   "id": "1a73c49c-7850-4f83-ad6d-80f7f3a541f2",
   "metadata": {},
   "outputs": [
    {
     "data": {
      "text/html": [
       "<div>\n",
       "<style scoped>\n",
       "    .dataframe tbody tr th:only-of-type {\n",
       "        vertical-align: middle;\n",
       "    }\n",
       "\n",
       "    .dataframe tbody tr th {\n",
       "        vertical-align: top;\n",
       "    }\n",
       "\n",
       "    .dataframe thead th {\n",
       "        text-align: right;\n",
       "    }\n",
       "</style>\n",
       "<table border=\"1\" class=\"dataframe\">\n",
       "  <thead>\n",
       "    <tr style=\"text-align: right;\">\n",
       "      <th></th>\n",
       "      <th>listed_in(type)</th>\n",
       "      <th>votes</th>\n",
       "    </tr>\n",
       "  </thead>\n",
       "  <tbody>\n",
       "    <tr>\n",
       "      <th>0</th>\n",
       "      <td>Buffet</td>\n",
       "      <td>3028</td>\n",
       "    </tr>\n",
       "    <tr>\n",
       "      <th>1</th>\n",
       "      <td>Cafes</td>\n",
       "      <td>6434</td>\n",
       "    </tr>\n",
       "    <tr>\n",
       "      <th>2</th>\n",
       "      <td>Dining</td>\n",
       "      <td>20363</td>\n",
       "    </tr>\n",
       "    <tr>\n",
       "      <th>3</th>\n",
       "      <td>other</td>\n",
       "      <td>9367</td>\n",
       "    </tr>\n",
       "  </tbody>\n",
       "</table>\n",
       "</div>"
      ],
      "text/plain": [
       "  listed_in(type)  votes\n",
       "0          Buffet   3028\n",
       "1           Cafes   6434\n",
       "2          Dining  20363\n",
       "3           other   9367"
      ]
     },
     "execution_count": 367,
     "metadata": {},
     "output_type": "execute_result"
    }
   ],
   "source": [
    "grouped"
   ]
  },
  {
   "cell_type": "code",
   "execution_count": 368,
   "id": "cc2607f0-79de-4340-a0b0-9a91ff43195d",
   "metadata": {},
   "outputs": [
    {
     "data": {
      "image/png": "[encoded data removed]",
      "text/plain": [
       "<Figure size 640x480 with 1 Axes>"
      ]
     },
     "metadata": {},
     "output_type": "display_data"
    }
   ],
   "source": [
    "\n",
    "sns.barplot(data=grouped , x='listed_in(type)', y='votes' , errorbar=None )\n",
    "plt.xlabel('Type of Restaurants')\n",
    "plt.ylabel('No.of votes')\n",
    "plt.show()"
   ]
  },
  {
   "cell_type": "markdown",
   "id": "01ce7064-848d-45a7-a0de-f76094f6c613",
   "metadata": {},
   "source": [
    "## Observation\n",
    "### Votes are Recieved as:\n",
    "#### Dinning : 20000+\n",
    "#### other : 7500+\n",
    "#### cafes : 5000+\n",
    "#### Buffet : 2500+"
   ]
  },
  {
   "cell_type": "markdown",
   "id": "fb71223f-81be-4525-bd66-77d6c03c92aa",
   "metadata": {},
   "source": [
    "## 3. What are the ratings that majority of restaurants have recieved ?"
   ]
  },
  {
   "cell_type": "code",
   "execution_count": 371,
   "id": "b6384638-6305-4474-9af5-e74c0a85dcfe",
   "metadata": {},
   "outputs": [
    {
     "data": {
      "text/plain": [
       "Text(0.5, 1.0, 'Maximum rating recieved from customers')"
      ]
     },
     "execution_count": 371,
     "metadata": {},
     "output_type": "execute_result"
    },
    {
     "data": {
      "image/png": "[encoded data removed]",
      "text/plain": [
       "<Figure size 640x480 with 1 Axes>"
      ]
     },
     "metadata": {},
     "output_type": "display_data"
    }
   ],
   "source": [
    "plt.hist( df['rate'] , bins=5)\n",
    "plt.xlabel('Ratings')\n",
    "plt.ylabel('count')\n",
    "plt.title('Maximum rating recieved from customers')"
   ]
  },
  {
   "cell_type": "markdown",
   "id": "6c6f9f41-75c8-48ed-bfaf-6542c1433eda",
   "metadata": {},
   "source": [
    "## observation\n",
    "### maximum rating lies between 3.5 to 4"
   ]
  },
  {
   "cell_type": "markdown",
   "id": "222d7b05-b7cd-4173-9b68-6599253b596d",
   "metadata": {},
   "source": [
    "## 4. What is the average spending on order by Couple orders ?"
   ]
  },
  {
   "cell_type": "code",
   "execution_count": 374,
   "id": "6daa9e44-6103-4892-8114-deb88556cd1e",
   "metadata": {},
   "outputs": [],
   "source": [
    " couple_data =df['approx_cost(for two people)']"
   ]
  },
  {
   "cell_type": "code",
   "execution_count": 375,
   "id": "28b1de71-959d-4358-a3a5-a08250450c73",
   "metadata": {},
   "outputs": [
    {
     "data": {
      "text/plain": [
       "0      800\n",
       "1      800\n",
       "2      800\n",
       "3      300\n",
       "4      600\n",
       "      ... \n",
       "143    100\n",
       "144    150\n",
       "145    450\n",
       "146    800\n",
       "147    200\n",
       "Name: approx_cost(for two people), Length: 148, dtype: int64"
      ]
     },
     "execution_count": 375,
     "metadata": {},
     "output_type": "execute_result"
    }
   ],
   "source": [
    "couple_data"
   ]
  },
  {
   "cell_type": "code",
   "execution_count": 376,
   "id": "8e104f73-89bc-4263-bda8-0458bf44cf88",
   "metadata": {},
   "outputs": [
    {
     "data": {
      "text/plain": [
       "<Axes: xlabel='approx_cost(for two people)', ylabel='count'>"
      ]
     },
     "execution_count": 376,
     "metadata": {},
     "output_type": "execute_result"
    },
    {
     "data": {
      "image/png": "[encoded data removed]",
      "text/plain": [
       "<Figure size 640x480 with 1 Axes>"
      ]
     },
     "metadata": {},
     "output_type": "display_data"
    }
   ],
   "source": [
    "sns.countplot(x=couple_data)"
   ]
  },
  {
   "cell_type": "markdown",
   "id": "40845511-22ee-4feb-9387-0c727560c39e",
   "metadata": {},
   "source": [
    "## Observation\n",
    "### average spending of couple orders is between 300 to 500"
   ]
  },
  {
   "cell_type": "markdown",
   "id": "6ca1e78e-071c-4979-b8fa-23d8a7a48a91",
   "metadata": {},
   "source": [
    "## 5. Which mode (online or offline) has recieved maximum rating ?"
   ]
  },
  {
   "cell_type": "code",
   "execution_count": 379,
   "id": "e18a6049-1423-4318-8389-cf3493d75c60",
   "metadata": {},
   "outputs": [
    {
     "data": {
      "text/plain": [
       "<Axes: xlabel='online_order', ylabel='rate'>"
      ]
     },
     "execution_count": 379,
     "metadata": {},
     "output_type": "execute_result"
    },
    {
     "data": {
      "image/png": "[encoded data removed]",
      "text/plain": [
       "<Figure size 640x480 with 1 Axes>"
      ]
     },
     "metadata": {},
     "output_type": "display_data"
    }
   ],
   "source": [
    "sns.barplot(data=df , x='online_order',y= 'rate' , errorbar=None)"
   ]
  },
  {
   "cell_type": "markdown",
   "id": "2982b133-1ad6-44a2-9bda-102615b60be1",
   "metadata": {},
   "source": [
    "## Observation\n",
    "### Maximum rating is recived by online orders i.e 3.5+"
   ]
  },
  {
   "cell_type": "markdown",
   "id": "50e6b7bc-8c5e-4dd7-a9eb-6ced565c3d94",
   "metadata": {},
   "source": [
    "## 6. Which type of restaurant recived more offline orders, so that zomato can provide those customers with more offers. "
   ]
  },
  {
   "cell_type": "code",
   "execution_count": 382,
   "id": "6c2c75fa-b3eb-4a1f-925d-99db46a6dca1",
   "metadata": {},
   "outputs": [],
   "source": [
    "pivot = df.pivot_table(index='listed_in(type)' , columns='online_order' , aggfunc='size')"
   ]
  },
  {
   "cell_type": "code",
   "execution_count": 383,
   "id": "7a82d6bc-43e2-494d-9da5-a90f1722ddc3",
   "metadata": {},
   "outputs": [
    {
     "data": {
      "text/html": [
       "<div>\n",
       "<style scoped>\n",
       "    .dataframe tbody tr th:only-of-type {\n",
       "        vertical-align: middle;\n",
       "    }\n",
       "\n",
       "    .dataframe tbody tr th {\n",
       "        vertical-align: top;\n",
       "    }\n",
       "\n",
       "    .dataframe thead th {\n",
       "        text-align: right;\n",
       "    }\n",
       "</style>\n",
       "<table border=\"1\" class=\"dataframe\">\n",
       "  <thead>\n",
       "    <tr style=\"text-align: right;\">\n",
       "      <th>online_order</th>\n",
       "      <th>No</th>\n",
       "      <th>Yes</th>\n",
       "    </tr>\n",
       "    <tr>\n",
       "      <th>listed_in(type)</th>\n",
       "      <th></th>\n",
       "      <th></th>\n",
       "    </tr>\n",
       "  </thead>\n",
       "  <tbody>\n",
       "    <tr>\n",
       "      <th>Buffet</th>\n",
       "      <td>3</td>\n",
       "      <td>4</td>\n",
       "    </tr>\n",
       "    <tr>\n",
       "      <th>Cafes</th>\n",
       "      <td>8</td>\n",
       "      <td>15</td>\n",
       "    </tr>\n",
       "    <tr>\n",
       "      <th>Dining</th>\n",
       "      <td>77</td>\n",
       "      <td>33</td>\n",
       "    </tr>\n",
       "    <tr>\n",
       "      <th>other</th>\n",
       "      <td>2</td>\n",
       "      <td>6</td>\n",
       "    </tr>\n",
       "  </tbody>\n",
       "</table>\n",
       "</div>"
      ],
      "text/plain": [
       "online_order     No  Yes\n",
       "listed_in(type)         \n",
       "Buffet            3    4\n",
       "Cafes             8   15\n",
       "Dining           77   33\n",
       "other             2    6"
      ]
     },
     "execution_count": 383,
     "metadata": {},
     "output_type": "execute_result"
    }
   ],
   "source": [
    "pivot"
   ]
  },
  {
   "cell_type": "code",
   "execution_count": 396,
   "id": "65903127-b5a8-43e4-a15c-268efc635fc8",
   "metadata": {},
   "outputs": [
    {
     "data": {
      "text/plain": [
       "Text(0.5, 1.0, 'Type of order recieved by restaurants')"
      ]
     },
     "execution_count": 396,
     "metadata": {},
     "output_type": "execute_result"
    },
    {
     "data": {
      "image/png": "[encoded data removed]",
      "text/plain": [
       "<Figure size 640x480 with 2 Axes>"
      ]
     },
     "metadata": {},
     "output_type": "display_data"
    }
   ],
   "source": [
    "sns.heatmap(pivot,cmap='coolwarm',annot=True )\n",
    "plt.xlabel('Order type')\n",
    "plt.ylabel('Type of Restaurants')\n",
    "plt.title('Type of order recieved by restaurants')"
   ]
  },
  {
   "cell_type": "code",
   "execution_count": 398,
   "id": "105de279-0722-4efd-b501-f3126020f48c",
   "metadata": {},
   "outputs": [
    {
     "data": {
      "text/plain": [
       "Text(0.5, 1.0, 'Type of order recieved by restaurants')"
      ]
     },
     "execution_count": 398,
     "metadata": {},
     "output_type": "execute_result"
    },
    {
     "data": {
      "image/png": "[encoded data removed]",
      "text/plain": [
       "<Figure size 640x480 with 1 Axes>"
      ]
     },
     "metadata": {},
     "output_type": "display_data"
    }
   ],
   "source": [
    "sns.countplot(data=df , x='listed_in(type)',hue='online_order')\n",
    "plt.xlabel('Type of Restaurants')\n",
    "plt.title('Type of order recieved by restaurants')"
   ]
  },
  {
   "cell_type": "markdown",
   "id": "79c97533-ee91-453f-9b8c-55849cf764a0",
   "metadata": {},
   "source": [
    "## Observation\n",
    "### Dinning has maximum offline orders followed by cafes , Buffet and at last other"
   ]
  }
 ],
 "metadata": {
  "kernelspec": {
   "display_name": "Python 3 (ipykernel)",
   "language": "python",
   "name": "python3"
  },
  "language_info": {
   "codemirror_mode": {
    "name": "ipython",
    "version": 3
   },
   "file_extension": ".py",
   "mimetype": "text/x-python",
   "name": "python",
   "nbconvert_exporter": "python",
   "pygments_lexer": "ipython3",
   "version": "3.11.7"
  }
 },
 "nbformat": 4,
 "nbformat_minor": 5
}
